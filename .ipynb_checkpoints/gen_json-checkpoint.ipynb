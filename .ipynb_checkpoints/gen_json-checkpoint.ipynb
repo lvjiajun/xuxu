{
 "cells": [
  {
   "cell_type": "code",
   "execution_count": 1,
   "id": "f8c89229",
   "metadata": {},
   "outputs": [],
   "source": [
    "import json\n",
    "from xml.dom.minidom import parse"
   ]
  },
  {
   "cell_type": "code",
   "execution_count": 2,
   "id": "ebb54ec3",
   "metadata": {},
   "outputs": [],
   "source": [
    "dirs_name = 'pan12-text-alignment-training-corpus-2012-03-16'"
   ]
  },
  {
   "cell_type": "code",
   "execution_count": 9,
   "id": "f22dd4f8",
   "metadata": {},
   "outputs": [],
   "source": [
    "def filewrite(filepath, rec):\n",
    "    dom = parse('./data/'+dirs_name+'/03_artificial_low/' + filepath)  # 使用parser读取xml中\n",
    "    ref = dom.getElementsByTagName('document')\n",
    "    suspcious_reference = ref[0].getAttribute('reference')\n",
    "    susp = open('./data/'+dirs_name+'/susp/' + suspcious_reference, 'r', encoding='utf-8')\n",
    "    text1, text2 = '', ''\n",
    "    D_data = list()\n",
    "    names = dom.getElementsByTagName(\"feature\")  # 获取所有‘name’的节点\n",
    "    for i in range(len(names)):  # 循坏读取列表中的内容跟\n",
    "        if names[i].getAttribute('name') == 'plagiarism':\n",
    "            this_offset = int(names[i].getAttribute('this_offset'))  # 打印节点数据susp\n",
    "            this_length = int(names[i].getAttribute('this_length'))  # 打印节点数据\n",
    "            source_offset = int(names[i].getAttribute('source_offset'))  # 打印节点数据sour\n",
    "            source_length = int(names[i].getAttribute('source_length'))  # 打印节点数据\n",
    "            source_reference = names[i].getAttribute('source_reference')\n",
    "            sour = open('./data/'+dirs_name+'/src/' + str(source_reference), 'r', encoding='utf-8')\n",
    "            susp.seek(this_offset + 3, 0)\n",
    "            sour.seek(source_offset + 3, 0)\n",
    "            text1 = susp.read(this_length).replace('\\n', ' ')\n",
    "            text2 = sour.read(source_length).replace('\\n', ' ')\n",
    "            D_data.append({'name':filepath,'text1':text1,'text2':text2})\n",
    "            rec += 1\n",
    "    with open('./data/' + dirs_name +'.json', 'a', encoding='utf-8') as f:  # text/text\n",
    "        json.dump(D_data,f)\n",
    "        f.close()\n",
    "    susp.close()\n",
    "    sour.close()\n",
    "    return rec"
   ]
  },
  {
   "cell_type": "code",
   "execution_count": 10,
   "id": "c403b57a",
   "metadata": {},
   "outputs": [
    {
     "ename": "UnicodeDecodeError",
     "evalue": "'utf-8' codec can't decode byte 0xa9 in position 0: invalid start byte",
     "output_type": "error",
     "traceback": [
      "\u001b[1;31m---------------------------------------------------------------------------\u001b[0m",
      "\u001b[1;31mUnicodeDecodeError\u001b[0m                        Traceback (most recent call last)",
      "Cell \u001b[1;32mIn [10], line 5\u001b[0m\n\u001b[0;32m      3\u001b[0m \u001b[38;5;28;01mfor\u001b[39;00m line \u001b[38;5;129;01min\u001b[39;00m f\u001b[38;5;241m.\u001b[39mreadlines():\n\u001b[0;32m      4\u001b[0m     line \u001b[38;5;241m=\u001b[39m line\u001b[38;5;241m.\u001b[39mstrip(\u001b[38;5;124m'\u001b[39m\u001b[38;5;130;01m\\n\u001b[39;00m\u001b[38;5;124m'\u001b[39m)\n\u001b[1;32m----> 5\u001b[0m     rec \u001b[38;5;241m=\u001b[39m \u001b[43mfilewrite\u001b[49m\u001b[43m(\u001b[49m\u001b[43mline\u001b[49m\u001b[43m,\u001b[49m\u001b[43m \u001b[49m\u001b[43mrec\u001b[49m\u001b[43m)\u001b[49m\n",
      "Cell \u001b[1;32mIn [9], line 19\u001b[0m, in \u001b[0;36mfilewrite\u001b[1;34m(filepath, rec)\u001b[0m\n\u001b[0;32m     17\u001b[0m susp\u001b[38;5;241m.\u001b[39mseek(this_offset \u001b[38;5;241m+\u001b[39m \u001b[38;5;241m3\u001b[39m, \u001b[38;5;241m0\u001b[39m)\n\u001b[0;32m     18\u001b[0m sour\u001b[38;5;241m.\u001b[39mseek(source_offset \u001b[38;5;241m+\u001b[39m \u001b[38;5;241m3\u001b[39m, \u001b[38;5;241m0\u001b[39m)\n\u001b[1;32m---> 19\u001b[0m text1 \u001b[38;5;241m=\u001b[39m \u001b[43msusp\u001b[49m\u001b[38;5;241;43m.\u001b[39;49m\u001b[43mread\u001b[49m\u001b[43m(\u001b[49m\u001b[43mthis_length\u001b[49m\u001b[43m)\u001b[49m\u001b[38;5;241m.\u001b[39mreplace(\u001b[38;5;124m'\u001b[39m\u001b[38;5;130;01m\\n\u001b[39;00m\u001b[38;5;124m'\u001b[39m, \u001b[38;5;124m'\u001b[39m\u001b[38;5;124m \u001b[39m\u001b[38;5;124m'\u001b[39m)\n\u001b[0;32m     20\u001b[0m text2 \u001b[38;5;241m=\u001b[39m sour\u001b[38;5;241m.\u001b[39mread(source_length)\u001b[38;5;241m.\u001b[39mreplace(\u001b[38;5;124m'\u001b[39m\u001b[38;5;130;01m\\n\u001b[39;00m\u001b[38;5;124m'\u001b[39m, \u001b[38;5;124m'\u001b[39m\u001b[38;5;124m \u001b[39m\u001b[38;5;124m'\u001b[39m)\n\u001b[0;32m     21\u001b[0m D_data\u001b[38;5;241m.\u001b[39mappend({\u001b[38;5;124m'\u001b[39m\u001b[38;5;124mname\u001b[39m\u001b[38;5;124m'\u001b[39m:filepath,\u001b[38;5;124m'\u001b[39m\u001b[38;5;124mtext1\u001b[39m\u001b[38;5;124m'\u001b[39m:text1,\u001b[38;5;124m'\u001b[39m\u001b[38;5;124mtext2\u001b[39m\u001b[38;5;124m'\u001b[39m:text2})\n",
      "File \u001b[1;32m~\\miniconda3\\lib\\codecs.py:322\u001b[0m, in \u001b[0;36mBufferedIncrementalDecoder.decode\u001b[1;34m(self, input, final)\u001b[0m\n\u001b[0;32m    319\u001b[0m \u001b[38;5;28;01mdef\u001b[39;00m \u001b[38;5;21mdecode\u001b[39m(\u001b[38;5;28mself\u001b[39m, \u001b[38;5;28minput\u001b[39m, final\u001b[38;5;241m=\u001b[39m\u001b[38;5;28;01mFalse\u001b[39;00m):\n\u001b[0;32m    320\u001b[0m     \u001b[38;5;66;03m# decode input (taking the buffer into account)\u001b[39;00m\n\u001b[0;32m    321\u001b[0m     data \u001b[38;5;241m=\u001b[39m \u001b[38;5;28mself\u001b[39m\u001b[38;5;241m.\u001b[39mbuffer \u001b[38;5;241m+\u001b[39m \u001b[38;5;28minput\u001b[39m\n\u001b[1;32m--> 322\u001b[0m     (result, consumed) \u001b[38;5;241m=\u001b[39m \u001b[38;5;28;43mself\u001b[39;49m\u001b[38;5;241;43m.\u001b[39;49m\u001b[43m_buffer_decode\u001b[49m\u001b[43m(\u001b[49m\u001b[43mdata\u001b[49m\u001b[43m,\u001b[49m\u001b[43m \u001b[49m\u001b[38;5;28;43mself\u001b[39;49m\u001b[38;5;241;43m.\u001b[39;49m\u001b[43merrors\u001b[49m\u001b[43m,\u001b[49m\u001b[43m \u001b[49m\u001b[43mfinal\u001b[49m\u001b[43m)\u001b[49m\n\u001b[0;32m    323\u001b[0m     \u001b[38;5;66;03m# keep undecoded input until the next call\u001b[39;00m\n\u001b[0;32m    324\u001b[0m     \u001b[38;5;28mself\u001b[39m\u001b[38;5;241m.\u001b[39mbuffer \u001b[38;5;241m=\u001b[39m data[consumed:]\n",
      "\u001b[1;31mUnicodeDecodeError\u001b[0m: 'utf-8' codec can't decode byte 0xa9 in position 0: invalid start byte"
     ]
    }
   ],
   "source": [
    "rec = 0\n",
    "with open('./data/name.txt', 'r', encoding='utf-8') as f:\n",
    "    for line in f.readlines():\n",
    "        line = line.strip('\\n')\n",
    "        try：\n",
    "            rec = filewrite(line, rec)\n",
    "        "
   ]
  },
  {
   "cell_type": "code",
   "execution_count": null,
   "id": "dda3d7eb",
   "metadata": {},
   "outputs": [],
   "source": []
  },
  {
   "cell_type": "code",
   "execution_count": null,
   "id": "ee08054b",
   "metadata": {},
   "outputs": [],
   "source": []
  },
  {
   "cell_type": "code",
   "execution_count": null,
   "id": "94eaffb8",
   "metadata": {},
   "outputs": [],
   "source": []
  },
  {
   "cell_type": "code",
   "execution_count": null,
   "id": "bdf12c13",
   "metadata": {},
   "outputs": [],
   "source": []
  },
  {
   "cell_type": "code",
   "execution_count": null,
   "id": "51b1ec14",
   "metadata": {},
   "outputs": [],
   "source": []
  },
  {
   "cell_type": "code",
   "execution_count": null,
   "id": "46ec104a",
   "metadata": {},
   "outputs": [],
   "source": []
  }
 ],
 "metadata": {
  "kernelspec": {
   "display_name": "Python 3 (ipykernel)",
   "language": "python",
   "name": "python3"
  },
  "language_info": {
   "codemirror_mode": {
    "name": "ipython",
    "version": 3
   },
   "file_extension": ".py",
   "mimetype": "text/x-python",
   "name": "python",
   "nbconvert_exporter": "python",
   "pygments_lexer": "ipython3",
   "version": "3.9.12"
  }
 },
 "nbformat": 4,
 "nbformat_minor": 5
}
